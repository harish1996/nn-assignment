{
 "cells": [
  {
   "cell_type": "code",
   "execution_count": 1,
   "metadata": {},
   "outputs": [],
   "source": [
    "import numpy as np"
   ]
  },
  {
   "cell_type": "code",
   "execution_count": 2,
   "metadata": {},
   "outputs": [
    {
     "data": {
      "text/plain": [
       "array([0.00669285, 0.01798621, 0.04742587, 0.11920292, 0.26894142,\n",
       "       0.5       , 0.73105858, 0.88079708, 0.95257413, 0.98201379])"
      ]
     },
     "execution_count": 2,
     "metadata": {},
     "output_type": "execute_result"
    }
   ],
   "source": [
    "a = np.array( range(-5,5) )\n",
    "1/(1+np.exp( -a ))"
   ]
  },
  {
   "cell_type": "code",
   "execution_count": 3,
   "metadata": {},
   "outputs": [],
   "source": [
    "class A:\n",
    "    \n",
    "    def __init__(self):\n",
    "        self.a = 1\n",
    "    \n",
    "    def get():\n",
    "        return a\n",
    "    \n",
    "    def put(b):\n",
    "        a=b"
   ]
  },
  {
   "cell_type": "code",
   "execution_count": 4,
   "metadata": {},
   "outputs": [
    {
     "data": {
      "text/plain": [
       "array([[0., 0., 0.],\n",
       "       [0., 0., 0.]])"
      ]
     },
     "execution_count": 4,
     "metadata": {},
     "output_type": "execute_result"
    }
   ],
   "source": [
    "a = A()\n",
    "hasattr( a, \"b\" )\n",
    "np.zeros( (2,3))"
   ]
  },
  {
   "cell_type": "code",
   "execution_count": 5,
   "metadata": {},
   "outputs": [],
   "source": [
    "\n",
    "class Activation(object):\n",
    "\tdef _apply_activation( self, before_activation ):\n",
    "\t\tpass\n",
    "\n",
    "\t# Allows directly calling _apply_activation through the\n",
    "\t# object.\n",
    "\tdef __call__(self, before_activation ):\n",
    "\t\treturn self._apply_activation(before_activation)\n",
    "\n",
    "class DifferentiableActivation(Activation):\n",
    "\tdef backpropogate( self, Y ):\n",
    "\t\tpass\n",
    "\n",
    "class ReLU(DifferentiableActivation):\n",
    "\tdef _apply_activation( self,before_activation ):\n",
    "\t\tcpy = np.array( before_activation )\n",
    "\t\tcpy[ before_activation < 0 ] = 0\n",
    "\t\treturn cpy\n",
    "\n",
    "\tdef backpropogate( self, before_activation ):\n",
    "\t\tcpy = np.array( before_activation )\n",
    "\t\tcpy[ before_activation < 0 ] = 0\n",
    "\t\tcpy[ before_activation >= 0 ] = 1\n",
    "\t\treturn cpy\t\t\n",
    "\n",
    "\n",
    "class Signum(Activation):\n",
    "\tdef _apply_activation( self,before_activation ):\n",
    "\t\tcpy = np.array( before_activation )\n",
    "\t\tcpy[ before_activation < 0 ] = -1\n",
    "\t\tcpy[ before_activation >= 0 ] = 1\n",
    "\t\treturn cpy\n",
    "\n",
    "class Linear(DifferentiableActivation):\n",
    "\tdef _apply_activation(self,before_activation):\n",
    "\t\treturn before_activation\n",
    "\n",
    "\tdef backpropogate( self, before_activation ):\n",
    "\t\treturn np.ones_like(before_activation)\n",
    "\n",
    "class Sigmoid(DifferentiableActivation):\n",
    "\n",
    "\tdef _apply_activation( self, before_activation ):\n",
    "\t\treturn 1/( 1+np.exp(-before_activation) )\n",
    "\n",
    "\tdef backpropogate( self, before_activation ):\n",
    "\t\tsigma = self._apply_activation( before_activation )\n",
    "\t\treturn sigma*(1-sigma)\n"
   ]
  },
  {
   "cell_type": "code",
   "execution_count": 6,
   "metadata": {},
   "outputs": [],
   "source": [
    "signum = Signum\n",
    "sigmoid = Sigmoid\n",
    "linear = Linear\n",
    "relu = ReLU"
   ]
  },
  {
   "cell_type": "code",
   "execution_count": 7,
   "metadata": {},
   "outputs": [
    {
     "data": {
      "text/plain": [
       "__main__.Signum"
      ]
     },
     "execution_count": 7,
     "metadata": {},
     "output_type": "execute_result"
    }
   ],
   "source": [
    "globals().get(\"signum\")"
   ]
  },
  {
   "cell_type": "code",
   "execution_count": 8,
   "metadata": {},
   "outputs": [],
   "source": [
    "a = Activation()"
   ]
  },
  {
   "cell_type": "code",
   "execution_count": 9,
   "metadata": {},
   "outputs": [
    {
     "data": {
      "text/plain": [
       "[__main__.ReLU, __main__.Linear, __main__.Sigmoid]"
      ]
     },
     "execution_count": 9,
     "metadata": {},
     "output_type": "execute_result"
    }
   ],
   "source": [
    "DifferentiableActivation.__subclasses__()"
   ]
  },
  {
   "cell_type": "code",
   "execution_count": 10,
   "metadata": {},
   "outputs": [
    {
     "data": {
      "text/plain": [
       "function"
      ]
     },
     "execution_count": 10,
     "metadata": {},
     "output_type": "execute_result"
    }
   ],
   "source": [
    "type(Sigmoid.backpropogate)"
   ]
  },
  {
   "cell_type": "code",
   "execution_count": 11,
   "metadata": {},
   "outputs": [
    {
     "data": {
      "text/plain": [
       "False"
      ]
     },
     "execution_count": 11,
     "metadata": {},
     "output_type": "execute_result"
    }
   ],
   "source": [
    "issubclass(DifferentiableActivation,Sigmoid)"
   ]
  },
  {
   "cell_type": "code",
   "execution_count": 12,
   "metadata": {},
   "outputs": [],
   "source": [
    "def add_bias_column( x ):\n",
    "    return np.append( np.ones( (x.shape[0],1)), x, axis = 1)\n",
    "def loss( y, pred ):\n",
    "    return 0.5*( pred - y )**2\n",
    "def grad_loss( y, pred):\n",
    "    return ( pred - y )\n",
    "sig = Sigmoid()"
   ]
  },
  {
   "cell_type": "code",
   "execution_count": 13,
   "metadata": {},
   "outputs": [],
   "source": [
    "in_1 = np.random.normal( size=(3,2) )"
   ]
  },
  {
   "cell_type": "code",
   "execution_count": 14,
   "metadata": {},
   "outputs": [
    {
     "data": {
      "text/plain": [
       "array([[ 1.47509911,  0.48603415],\n",
       "       [-1.07039887,  0.46005151],\n",
       "       [-0.08092517,  1.22606966]])"
      ]
     },
     "execution_count": 14,
     "metadata": {},
     "output_type": "execute_result"
    }
   ],
   "source": [
    "in_1"
   ]
  },
  {
   "cell_type": "code",
   "execution_count": 15,
   "metadata": {},
   "outputs": [],
   "source": [
    "_1_2 = np.random.normal( size=((3,1)))"
   ]
  },
  {
   "cell_type": "code",
   "execution_count": 16,
   "metadata": {},
   "outputs": [],
   "source": [
    "inp = np.array( [[1,0,0],[1,0,1],[1,1,0],[1,1,1] ] )"
   ]
  },
  {
   "cell_type": "code",
   "execution_count": 17,
   "metadata": {},
   "outputs": [
    {
     "data": {
      "text/plain": [
       "array([[1, 0, 0],\n",
       "       [1, 0, 1],\n",
       "       [1, 1, 0],\n",
       "       [1, 1, 1]])"
      ]
     },
     "execution_count": 17,
     "metadata": {},
     "output_type": "execute_result"
    }
   ],
   "source": [
    "inp"
   ]
  },
  {
   "cell_type": "code",
   "execution_count": 18,
   "metadata": {},
   "outputs": [],
   "source": [
    "l1_in = sig(inp.dot(in_1))"
   ]
  },
  {
   "cell_type": "code",
   "execution_count": 19,
   "metadata": {},
   "outputs": [],
   "source": [
    "l1_in = add_bias_column( l1_in )"
   ]
  },
  {
   "cell_type": "code",
   "execution_count": 20,
   "metadata": {},
   "outputs": [
    {
     "name": "stdout",
     "output_type": "stream",
     "text": [
      "[[-3.39522762]\n",
      " [-3.82217951]\n",
      " [-3.4258315 ]\n",
      " [-3.75064997]] [[0.03244495]\n",
      " [0.02141157]\n",
      " [0.03149785]\n",
      " [0.02296278]]\n"
     ]
    }
   ],
   "source": [
    "l2_=  l1_in.dot(_1_2)\n",
    "pred = sig(l2_)\n",
    "print(l2_,pred)"
   ]
  },
  {
   "cell_type": "code",
   "execution_count": 21,
   "metadata": {},
   "outputs": [],
   "source": [
    "out = np.array( [[1,0,0,1]] ).T"
   ]
  },
  {
   "cell_type": "code",
   "execution_count": 22,
   "metadata": {},
   "outputs": [
    {
     "data": {
      "text/plain": [
       "array([[4.68081391e-01],\n",
       "       [2.29227761e-04],\n",
       "       [4.96057192e-04],\n",
       "       [4.77300862e-01]])"
      ]
     },
     "execution_count": 22,
     "metadata": {},
     "output_type": "execute_result"
    }
   ],
   "source": [
    "los = loss( out, pred )\n",
    "los"
   ]
  },
  {
   "cell_type": "code",
   "execution_count": 23,
   "metadata": {},
   "outputs": [
    {
     "data": {
      "text/plain": [
       "array([[-0.96755505],\n",
       "       [ 0.02141157],\n",
       "       [ 0.03149785],\n",
       "       [-0.97703722]])"
      ]
     },
     "execution_count": 23,
     "metadata": {},
     "output_type": "execute_result"
    }
   ],
   "source": [
    "grad = grad_loss(out,pred)\n",
    "grad"
   ]
  },
  {
   "cell_type": "code",
   "execution_count": 24,
   "metadata": {},
   "outputs": [
    {
     "data": {
      "text/plain": [
       "array([[-0.03037375],\n",
       "       [ 0.00044864],\n",
       "       [ 0.00096086],\n",
       "       [-0.02192031]])"
      ]
     },
     "execution_count": 24,
     "metadata": {},
     "output_type": "execute_result"
    }
   ],
   "source": [
    "grad_2 = sig.backpropogate( l2_ )*grad\n",
    "grad_2"
   ]
  },
  {
   "cell_type": "code",
   "execution_count": 25,
   "metadata": {},
   "outputs": [
    {
     "data": {
      "text/plain": [
       "array([[-0.05088456],\n",
       "       [-0.03650242],\n",
       "       [-0.03741271]])"
      ]
     },
     "execution_count": 25,
     "metadata": {},
     "output_type": "execute_result"
    }
   ],
   "source": [
    "_1_2_inc = l1_in.T.dot( grad_2 )\n",
    "_1_2_inc"
   ]
  },
  {
   "cell_type": "code",
   "execution_count": 26,
   "metadata": {},
   "outputs": [],
   "source": [
    "nodes = 5\n",
    "input_size = 4\n",
    "W = np.random.normal( size= (nodes,input_size+1) ) #set of 0 vectors"
   ]
  },
  {
   "cell_type": "code",
   "execution_count": 27,
   "metadata": {},
   "outputs": [
    {
     "data": {
      "text/plain": [
       "array([[-0.30563561,  1.43965029,  0.12528504, -0.16611246],\n",
       "       [-0.03290572, -1.7273257 ,  0.18675673,  0.21845408],\n",
       "       [-1.0184388 ,  0.70632546,  0.50220467, -0.38514516],\n",
       "       [ 1.15276235,  2.46064109,  0.18235747, -0.93610286],\n",
       "       [-0.3394152 ,  0.71796328,  0.67039124, -0.09679939]])"
      ]
     },
     "execution_count": 27,
     "metadata": {},
     "output_type": "execute_result"
    }
   ],
   "source": [
    "W[:,1:]"
   ]
  },
  {
   "cell_type": "code",
   "execution_count": 28,
   "metadata": {},
   "outputs": [
    {
     "data": {
      "text/plain": [
       "[0, 1, 2, 3, 4, 5, 6, 7]"
      ]
     },
     "execution_count": 28,
     "metadata": {},
     "output_type": "execute_result"
    }
   ],
   "source": [
    "list(range(8))"
   ]
  },
  {
   "cell_type": "code",
   "execution_count": 29,
   "metadata": {},
   "outputs": [
    {
     "data": {
      "text/plain": [
       "[7, 6, 5, 4, 3, 2, 1, 0]"
      ]
     },
     "execution_count": 29,
     "metadata": {},
     "output_type": "execute_result"
    }
   ],
   "source": [
    "list(range(7,-1,-1))"
   ]
  },
  {
   "cell_type": "code",
   "execution_count": 30,
   "metadata": {},
   "outputs": [],
   "source": [
    "class PerspectiveVision(object):\n",
    "\n",
    "\tdef __init__( self, camera ):\n",
    "\t\tself.camera = camera\n",
    "\t\t# self.construct_transformation_matrix()\n",
    "\n",
    "\t# def construct_transformation_matrix( self, camera ):\n",
    "\t# \tif not hasattr( self, \"matrix\" ):\n",
    "\t# \t\tself.matrix = np.zeros( (2,3) )\n",
    "\t# \tself.matrix[0,0] = camera[0]\n",
    "\t# \tself.matrix[0,2] = self.matrix[1,2] = camera[2]\n",
    "\t# \tself.matrix[1,1] = camera[1]\n",
    "\n",
    "\t# \tself\n",
    "\n",
    "\tdef transform( self, points ):\n",
    "\t\tpoints2d = np.zeros( (points.shape[0],2) )\n",
    "\t\tpoints2d[:,0] = ((points[:,0]*self.camera[2])+(self.camera[0]*points[:,2]))/(self.camera[2]+points[:,2])\n",
    "\t\tpoints2d[:,1] = ((points[:,1]*self.camera[2])+(self.camera[1]*points[:,2]))/(self.camera[2]+points[:,2])\n",
    "\t\treturn points2d\n",
    "        \n",
    "# \t\tx_dash = x_dash.reshape(-1,1)\n",
    "# \t\ty_dash = y_dash.reshape(-1,1)\n",
    "# \t\treturn np.hstack( [x_dash,y_dash] )\n"
   ]
  },
  {
   "cell_type": "code",
   "execution_count": 31,
   "metadata": {},
   "outputs": [],
   "source": [
    "vis = PerspectiveVision( (0,0,1) )"
   ]
  },
  {
   "cell_type": "code",
   "execution_count": 32,
   "metadata": {},
   "outputs": [],
   "source": [
    "points = [ [1,1,1],\n",
    "            [2,3,1],\n",
    "             [4,5,3],\n",
    "         [7,4,6]]\n",
    "points = np.array( points )"
   ]
  },
  {
   "cell_type": "code",
   "execution_count": 33,
   "metadata": {},
   "outputs": [
    {
     "data": {
      "text/plain": [
       "array([[0.5       , 0.5       ],\n",
       "       [1.        , 1.5       ],\n",
       "       [1.        , 1.25      ],\n",
       "       [1.        , 0.57142857]])"
      ]
     },
     "execution_count": 33,
     "metadata": {},
     "output_type": "execute_result"
    }
   ],
   "source": [
    "vis.transform( points )"
   ]
  },
  {
   "cell_type": "code",
   "execution_count": 34,
   "metadata": {},
   "outputs": [],
   "source": [
    "def transform(camera,obj):\n",
    "    x_dash = ((obj[0]*camera[2])+(camera[0]*obj[2]))/(camera[2]+obj[2])\n",
    "    y_dash = ((obj[1]*camera[2])+(camera[1]*obj[2]))/(camera[2]+obj[2])\n",
    "    return (x_dash,y_dash)"
   ]
  },
  {
   "cell_type": "code",
   "execution_count": 35,
   "metadata": {},
   "outputs": [
    {
     "data": {
      "text/plain": [
       "(1.0, 0.625)"
      ]
     },
     "execution_count": 35,
     "metadata": {},
     "output_type": "execute_result"
    }
   ],
   "source": [
    "transform( (0,0,1), (4,2.5,3))"
   ]
  },
  {
   "cell_type": "code",
   "execution_count": 36,
   "metadata": {},
   "outputs": [
    {
     "name": "stdout",
     "output_type": "stream",
     "text": [
      "pygame 1.9.6\n",
      "Hello from the pygame community. https://www.pygame.org/contribute.html\n"
     ]
    }
   ],
   "source": [
    "import pygame\n",
    "from pygame.locals import *\n",
    "from OpenGL.GL import *\n",
    "from OpenGL.GLU import *\n",
    "import numpy as np\n",
    "import math"
   ]
  },
  {
   "cell_type": "code",
   "execution_count": 37,
   "metadata": {},
   "outputs": [],
   "source": [
    "class PerspectiveVision(object):\n",
    "\n",
    "\tdef __init__( self, camera ):\n",
    "\t\tself.change_camera_position( camera )\n",
    "\t\t\n",
    "\tdef change_camera_position(self, camera ):\n",
    "\t\tself.camera = camera \n",
    "\n",
    "\tdef draw_loop( self,points ):\n",
    "\t\tpoints2d = self.transform( points )\n",
    "\t\tglBegin(GL_LINE_LOOP)\n",
    "\t\tfor i in range(points2d.shape[0]):\n",
    "\t\t\tglVertex2fv( points2d[i,:] )\n",
    "\t\tglEnd()\n",
    "\n",
    "\tdef transform( self, points ):\n",
    "\t\tpoints2d = np.zeros( (points.shape[0],2) )\n",
    "\t\tpoints2d[:,0] = ((points[:,0]*self.camera[2])+(self.camera[0]*points[:,2]))/(self.camera[2]+points[:,2])\n",
    "\t\tpoints2d[:,1] = ((points[:,1]*self.camera[2])+(self.camera[1]*points[:,2]))/(self.camera[2]+points[:,2])\n",
    "\t\treturn points2d"
   ]
  },
  {
   "cell_type": "code",
   "execution_count": 38,
   "metadata": {},
   "outputs": [],
   "source": [
    "def get_circle_xz( center, radius, del_theta = 5 ):\n",
    "\n",
    "\tr = radius\n",
    "\tpoints = np.empty( (int(360/del_theta),3) )\n",
    "\tfor i in range(int(360/del_theta)):\n",
    "\t\tpoints[i,1] = center[1]\n",
    "\t\tpoints[i,0] = r * math.cos(math.radians(i*del_theta)) + center[0]\n",
    "\t\tpoints[i,2] = r * math.sin(math.radians(i*del_theta)) + center[2]\n",
    "\treturn points"
   ]
  },
  {
   "cell_type": "code",
   "execution_count": 39,
   "metadata": {},
   "outputs": [],
   "source": [
    "def main():\n",
    "    pygame.init()\n",
    "    display = (800,600)\n",
    "    pygame.display.set_mode(display, DOUBLEBUF|OPENGL)\n",
    "\n",
    "    # glTranslatef(0.0,0, 1)\n",
    "    camera = [ 0,0,1 ]\n",
    "    view = PerspectiveVision( camera )\n",
    "    while True:\n",
    "        for event in pygame.event.get():\n",
    "            if event.type == pygame.QUIT:\n",
    "                pygame.quit()\n",
    "                quit()\n",
    "\n",
    "        # glRotatef(2, 0, 0, 0)\n",
    "        glClear(GL_COLOR_BUFFER_BIT|GL_DEPTH_BUFFER_BIT)\n",
    "        # Cube()\n",
    "        # Gibberish()\n",
    "        # lines()\n",
    "#         camera[0] += 0.2\n",
    "#         if( camera[0] >= 6 ):\n",
    "#         \tcamera[0] = -6\n",
    "        points = get_circle_xz( (0,0.2,0.2), radius = 0.4 )\n",
    "        view.draw_loop( points )\n",
    "\n",
    "        # camera[1] += 0.15\n",
    "        # if( camera[1] >= 4 ):\n",
    "        # \tcamera[1] = -4\n",
    "#         draw_lines_from_perspective( camera, vertices_sheet )\n",
    "        pygame.display.flip()\n",
    "        pygame.time.wait(100)"
   ]
  },
  {
   "cell_type": "code",
   "execution_count": 40,
   "metadata": {},
   "outputs": [
    {
     "ename": "error",
     "evalue": "video system not initialized",
     "output_type": "error",
     "traceback": [
      "\u001b[0;31m---------------------------------------------------------------------------\u001b[0m",
      "\u001b[0;31merror\u001b[0m                                     Traceback (most recent call last)",
      "\u001b[0;32m<ipython-input-40-263240bbee7e>\u001b[0m in \u001b[0;36m<module>\u001b[0;34m\u001b[0m\n\u001b[0;32m----> 1\u001b[0;31m \u001b[0mmain\u001b[0m\u001b[0;34m(\u001b[0m\u001b[0;34m)\u001b[0m\u001b[0;34m\u001b[0m\u001b[0;34m\u001b[0m\u001b[0m\n\u001b[0m",
      "\u001b[0;32m<ipython-input-39-b7b72828bdf4>\u001b[0m in \u001b[0;36mmain\u001b[0;34m()\u001b[0m\n\u001b[1;32m     28\u001b[0m         \u001b[0;31m#       camera[1] = -4\u001b[0m\u001b[0;34m\u001b[0m\u001b[0;34m\u001b[0m\u001b[0;34m\u001b[0m\u001b[0m\n\u001b[1;32m     29\u001b[0m \u001b[0;31m#         draw_lines_from_perspective( camera, vertices_sheet )\u001b[0m\u001b[0;34m\u001b[0m\u001b[0;34m\u001b[0m\u001b[0;34m\u001b[0m\u001b[0m\n\u001b[0;32m---> 30\u001b[0;31m         \u001b[0mpygame\u001b[0m\u001b[0;34m.\u001b[0m\u001b[0mdisplay\u001b[0m\u001b[0;34m.\u001b[0m\u001b[0mflip\u001b[0m\u001b[0;34m(\u001b[0m\u001b[0;34m)\u001b[0m\u001b[0;34m\u001b[0m\u001b[0;34m\u001b[0m\u001b[0m\n\u001b[0m\u001b[1;32m     31\u001b[0m         \u001b[0mpygame\u001b[0m\u001b[0;34m.\u001b[0m\u001b[0mtime\u001b[0m\u001b[0;34m.\u001b[0m\u001b[0mwait\u001b[0m\u001b[0;34m(\u001b[0m\u001b[0;36m100\u001b[0m\u001b[0;34m)\u001b[0m\u001b[0;34m\u001b[0m\u001b[0;34m\u001b[0m\u001b[0m\n",
      "\u001b[0;31merror\u001b[0m: video system not initialized"
     ]
    },
    {
     "name": "stderr",
     "output_type": "stream",
     "text": [
      "ERROR:root:Invalid alias: The name clear can't be aliased because it is another magic command.\n",
      "ERROR:root:Invalid alias: The name more can't be aliased because it is another magic command.\n",
      "ERROR:root:Invalid alias: The name less can't be aliased because it is another magic command.\n",
      "ERROR:root:Invalid alias: The name man can't be aliased because it is another magic command.\n"
     ]
    }
   ],
   "source": [
    "main()"
   ]
  },
  {
   "cell_type": "code",
   "execution_count": null,
   "metadata": {},
   "outputs": [],
   "source": []
  }
 ],
 "metadata": {
  "kernelspec": {
   "display_name": "Python 3",
   "language": "python",
   "name": "python3"
  },
  "language_info": {
   "codemirror_mode": {
    "name": "ipython",
    "version": 3
   },
   "file_extension": ".py",
   "mimetype": "text/x-python",
   "name": "python",
   "nbconvert_exporter": "python",
   "pygments_lexer": "ipython3",
   "version": "3.7.3"
  }
 },
 "nbformat": 4,
 "nbformat_minor": 2
}
