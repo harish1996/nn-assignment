{
 "cells": [
  {
   "cell_type": "code",
   "execution_count": 1,
   "metadata": {},
   "outputs": [],
   "source": [
    "import numpy as np"
   ]
  },
  {
   "cell_type": "code",
   "execution_count": 9,
   "metadata": {},
   "outputs": [
    {
     "data": {
      "text/plain": [
       "array([0.00669285, 0.01798621, 0.04742587, 0.11920292, 0.26894142,\n",
       "       0.5       , 0.73105858, 0.88079708, 0.95257413, 0.98201379])"
      ]
     },
     "execution_count": 9,
     "metadata": {},
     "output_type": "execute_result"
    }
   ],
   "source": [
    "a = np.array( range(-5,5) )\n",
    "1/(1+np.exp( -a ))"
   ]
  },
  {
   "cell_type": "code",
   "execution_count": 12,
   "metadata": {},
   "outputs": [
    {
     "ename": "SyntaxError",
     "evalue": "invalid syntax (<ipython-input-12-e824322402dc>, line 1)",
     "output_type": "error",
     "traceback": [
      "\u001b[0;36m  File \u001b[0;32m\"<ipython-input-12-e824322402dc>\"\u001b[0;36m, line \u001b[0;32m1\u001b[0m\n\u001b[0;31m    1/(a+!)\u001b[0m\n\u001b[0m         ^\u001b[0m\n\u001b[0;31mSyntaxError\u001b[0m\u001b[0;31m:\u001b[0m invalid syntax\n"
     ]
    }
   ],
   "source": [
    "1/(a+!)"
   ]
  },
  {
   "cell_type": "code",
   "execution_count": 13,
   "metadata": {},
   "outputs": [
    {
     "data": {
      "text/plain": [
       "{'__name__': '__main__',\n",
       " '__doc__': 'Automatically created module for IPython interactive environment',\n",
       " '__package__': None,\n",
       " '__loader__': None,\n",
       " '__spec__': None,\n",
       " '__builtin__': <module 'builtins' (built-in)>,\n",
       " '__builtins__': <module 'builtins' (built-in)>,\n",
       " '_ih': ['',\n",
       "  'import numpy as np',\n",
       "  'a = np.array( [1,2,3,4,5] )\\na**-2',\n",
       "  'a = np.array( [1,2,3,4,5] )\\na**2',\n",
       "  'a = np.array( [1,2,3,4,5] )\\nnp.exp( a )',\n",
       "  'a = np.array( [1,2,3,4,5] )\\nnp.exp( -a )',\n",
       "  'a = np.array( [1,2,3,4,5] )\\n1/(1+np.exp( -a ))',\n",
       "  'a = np.array( range(-5,5) )\\n1/(1+np.exp( -a ))',\n",
       "  'a = np.array( range(-5,5) )\\n1/(1-np.exp( -a ))',\n",
       "  'a = np.array( range(-5,5) )\\n1/(1+np.exp( -a ))',\n",
       "  '1/a',\n",
       "  '1/1+a',\n",
       "  '1/(a+!)',\n",
       "  'globals()'],\n",
       " '_oh': {3: array([ 1,  4,  9, 16, 25]),\n",
       "  4: array([  2.71828183,   7.3890561 ,  20.08553692,  54.59815003,\n",
       "         148.4131591 ]),\n",
       "  5: array([0.36787944, 0.13533528, 0.04978707, 0.01831564, 0.00673795]),\n",
       "  6: array([0.73105858, 0.88079708, 0.95257413, 0.98201379, 0.99330715]),\n",
       "  7: array([0.00669285, 0.01798621, 0.04742587, 0.11920292, 0.26894142,\n",
       "         0.5       , 0.73105858, 0.88079708, 0.95257413, 0.98201379]),\n",
       "  8: array([-0.00678365, -0.01865736, -0.0523957 , -0.15651764, -0.58197671,\n",
       "                 inf,  1.58197671,  1.15651764,  1.0523957 ,  1.01865736]),\n",
       "  9: array([0.00669285, 0.01798621, 0.04742587, 0.11920292, 0.26894142,\n",
       "         0.5       , 0.73105858, 0.88079708, 0.95257413, 0.98201379]),\n",
       "  10: array([-0.2       , -0.25      , -0.33333333, -0.5       , -1.        ,\n",
       "                 inf,  1.        ,  0.5       ,  0.33333333,  0.25      ]),\n",
       "  11: array([-4., -3., -2., -1.,  0.,  1.,  2.,  3.,  4.,  5.])},\n",
       " '_dh': ['/home/harish/Documents/Assignments/NN'],\n",
       " 'In': ['',\n",
       "  'import numpy as np',\n",
       "  'a = np.array( [1,2,3,4,5] )\\na**-2',\n",
       "  'a = np.array( [1,2,3,4,5] )\\na**2',\n",
       "  'a = np.array( [1,2,3,4,5] )\\nnp.exp( a )',\n",
       "  'a = np.array( [1,2,3,4,5] )\\nnp.exp( -a )',\n",
       "  'a = np.array( [1,2,3,4,5] )\\n1/(1+np.exp( -a ))',\n",
       "  'a = np.array( range(-5,5) )\\n1/(1+np.exp( -a ))',\n",
       "  'a = np.array( range(-5,5) )\\n1/(1-np.exp( -a ))',\n",
       "  'a = np.array( range(-5,5) )\\n1/(1+np.exp( -a ))',\n",
       "  '1/a',\n",
       "  '1/1+a',\n",
       "  '1/(a+!)',\n",
       "  'globals()'],\n",
       " 'Out': {3: array([ 1,  4,  9, 16, 25]),\n",
       "  4: array([  2.71828183,   7.3890561 ,  20.08553692,  54.59815003,\n",
       "         148.4131591 ]),\n",
       "  5: array([0.36787944, 0.13533528, 0.04978707, 0.01831564, 0.00673795]),\n",
       "  6: array([0.73105858, 0.88079708, 0.95257413, 0.98201379, 0.99330715]),\n",
       "  7: array([0.00669285, 0.01798621, 0.04742587, 0.11920292, 0.26894142,\n",
       "         0.5       , 0.73105858, 0.88079708, 0.95257413, 0.98201379]),\n",
       "  8: array([-0.00678365, -0.01865736, -0.0523957 , -0.15651764, -0.58197671,\n",
       "                 inf,  1.58197671,  1.15651764,  1.0523957 ,  1.01865736]),\n",
       "  9: array([0.00669285, 0.01798621, 0.04742587, 0.11920292, 0.26894142,\n",
       "         0.5       , 0.73105858, 0.88079708, 0.95257413, 0.98201379]),\n",
       "  10: array([-0.2       , -0.25      , -0.33333333, -0.5       , -1.        ,\n",
       "                 inf,  1.        ,  0.5       ,  0.33333333,  0.25      ]),\n",
       "  11: array([-4., -3., -2., -1.,  0.,  1.,  2.,  3.,  4.,  5.])},\n",
       " 'get_ipython': <bound method InteractiveShell.get_ipython of <ipykernel.zmqshell.ZMQInteractiveShell object at 0x7f699eaf6c88>>,\n",
       " 'exit': <IPython.core.autocall.ZMQExitAutocall at 0x7f699eaf1518>,\n",
       " 'quit': <IPython.core.autocall.ZMQExitAutocall at 0x7f699eaf1518>,\n",
       " '_': array([-4., -3., -2., -1.,  0.,  1.,  2.,  3.,  4.,  5.]),\n",
       " '__': array([-0.2       , -0.25      , -0.33333333, -0.5       , -1.        ,\n",
       "                inf,  1.        ,  0.5       ,  0.33333333,  0.25      ]),\n",
       " '___': array([0.00669285, 0.01798621, 0.04742587, 0.11920292, 0.26894142,\n",
       "        0.5       , 0.73105858, 0.88079708, 0.95257413, 0.98201379]),\n",
       " '_i': '1/(a+!)',\n",
       " '_ii': '1/1+a',\n",
       " '_iii': '1/a',\n",
       " '_i1': 'import numpy as np',\n",
       " 'np': <module 'numpy' from '/home/harish/anaconda3/lib/python3.7/site-packages/numpy/__init__.py'>,\n",
       " '_i2': 'a = np.array( [1,2,3,4,5] )\\na**-2',\n",
       " 'a': array([-5, -4, -3, -2, -1,  0,  1,  2,  3,  4]),\n",
       " '_i3': 'a = np.array( [1,2,3,4,5] )\\na**2',\n",
       " '_3': array([ 1,  4,  9, 16, 25]),\n",
       " '_i4': 'a = np.array( [1,2,3,4,5] )\\nnp.exp( a )',\n",
       " '_4': array([  2.71828183,   7.3890561 ,  20.08553692,  54.59815003,\n",
       "        148.4131591 ]),\n",
       " '_i5': 'a = np.array( [1,2,3,4,5] )\\nnp.exp( -a )',\n",
       " '_5': array([0.36787944, 0.13533528, 0.04978707, 0.01831564, 0.00673795]),\n",
       " '_i6': 'a = np.array( [1,2,3,4,5] )\\n1/(1+np.exp( -a ))',\n",
       " '_6': array([0.73105858, 0.88079708, 0.95257413, 0.98201379, 0.99330715]),\n",
       " '_i7': 'a = np.array( range(-5,5) )\\n1/(1+np.exp( -a ))',\n",
       " '_7': array([0.00669285, 0.01798621, 0.04742587, 0.11920292, 0.26894142,\n",
       "        0.5       , 0.73105858, 0.88079708, 0.95257413, 0.98201379]),\n",
       " '_i8': 'a = np.array( range(-5,5) )\\n1/(1-np.exp( -a ))',\n",
       " '_8': array([-0.00678365, -0.01865736, -0.0523957 , -0.15651764, -0.58197671,\n",
       "                inf,  1.58197671,  1.15651764,  1.0523957 ,  1.01865736]),\n",
       " '_i9': 'a = np.array( range(-5,5) )\\n1/(1+np.exp( -a ))',\n",
       " '_9': array([0.00669285, 0.01798621, 0.04742587, 0.11920292, 0.26894142,\n",
       "        0.5       , 0.73105858, 0.88079708, 0.95257413, 0.98201379]),\n",
       " '_i10': '1/a',\n",
       " '_10': array([-0.2       , -0.25      , -0.33333333, -0.5       , -1.        ,\n",
       "                inf,  1.        ,  0.5       ,  0.33333333,  0.25      ]),\n",
       " '_i11': '1/1+a',\n",
       " '_11': array([-4., -3., -2., -1.,  0.,  1.,  2.,  3.,  4.,  5.]),\n",
       " '_i12': '1/(a+!)',\n",
       " '_i13': 'globals()'}"
      ]
     },
     "execution_count": 13,
     "metadata": {},
     "output_type": "execute_result"
    }
   ],
   "source": [
    "globals()"
   ]
  },
  {
   "cell_type": "code",
   "execution_count": 18,
   "metadata": {},
   "outputs": [],
   "source": [
    "class A:\n",
    "    \n",
    "    def __init__():\n",
    "        self.a = 1\n",
    "    \n",
    "    def get():\n",
    "        return a\n",
    "    \n",
    "    def put(b):\n",
    "        a=b"
   ]
  },
  {
   "cell_type": "code",
   "execution_count": 19,
   "metadata": {},
   "outputs": [
    {
     "data": {
      "text/plain": [
       "__main__.A"
      ]
     },
     "execution_count": 19,
     "metadata": {},
     "output_type": "execute_result"
    }
   ],
   "source": [
    "globals().get(\"A\")"
   ]
  },
  {
   "cell_type": "code",
   "execution_count": 20,
   "metadata": {},
   "outputs": [],
   "source": [
    "\n",
    "class Activation(object):\n",
    "\tdef _apply_activation( self, before_activation ):\n",
    "\t\tpass\n",
    "\n",
    "\t# Allows directly calling _apply_activation through the\n",
    "\t# object.\n",
    "\tdef __call__(self, before_activation ):\n",
    "\t\treturn self._apply_activation(before_activation)\n",
    "\n",
    "class DifferentiableActivation(Activation):\n",
    "\tdef backpropogate( self, Y ):\n",
    "\t\tpass\n",
    "\n",
    "class ReLU(DifferentiableActivation):\n",
    "\tdef _apply_activation( self,before_activation ):\n",
    "\t\tcpy = np.array( before_activation )\n",
    "\t\tcpy[ before_activation < 0 ] = 0\n",
    "\t\treturn cpy\n",
    "\n",
    "\tdef backpropogate( self, before_activation ):\n",
    "\t\tcpy = np.array( before_activation )\n",
    "\t\tcpy[ before_activation < 0 ] = 0\n",
    "\t\tcpy[ before_activation >= 0 ] = 1\n",
    "\t\treturn cpy\t\t\n",
    "\n",
    "\n",
    "class Signum(Activation):\n",
    "\tdef _apply_activation( self,before_activation ):\n",
    "\t\tcpy = np.array( before_activation )\n",
    "\t\tcpy[ before_activation < 0 ] = -1\n",
    "\t\tcpy[ before_activation >= 0 ] = 1\n",
    "\t\treturn cpy\n",
    "\n",
    "class Linear(DifferentiableActivation):\n",
    "\tdef _apply_activation(self,before_activation):\n",
    "\t\treturn before_activation\n",
    "\n",
    "\tdef backpropogate( self, before_activation ):\n",
    "\t\treturn np.ones_like(before_activation)\n",
    "\n",
    "class Sigmoid(DifferentiableActivation):\n",
    "\n",
    "\tdef _apply_activation( self, before_activation ):\n",
    "\t\treturn 1/( 1+np.exp(-before_activation) )\n",
    "\n",
    "\tdef backpropogate( self, before_activation ):\n",
    "\t\tsigma = _apply_activation( before_activation )\n",
    "\t\treturn sigma*(1-sigma)\n"
   ]
  },
  {
   "cell_type": "code",
   "execution_count": 21,
   "metadata": {},
   "outputs": [],
   "source": [
    "signum = Signum\n",
    "sigmoid = Sigmoid\n",
    "linear = Linear\n",
    "relu = ReLU"
   ]
  },
  {
   "cell_type": "code",
   "execution_count": 22,
   "metadata": {},
   "outputs": [
    {
     "data": {
      "text/plain": [
       "__main__.Signum"
      ]
     },
     "execution_count": 22,
     "metadata": {},
     "output_type": "execute_result"
    }
   ],
   "source": [
    "globals().get(\"signum\")"
   ]
  },
  {
   "cell_type": "code",
   "execution_count": 24,
   "metadata": {},
   "outputs": [],
   "source": [
    "a = Activation()"
   ]
  },
  {
   "cell_type": "code",
   "execution_count": 28,
   "metadata": {},
   "outputs": [
    {
     "data": {
      "text/plain": [
       "[__main__.ReLU, __main__.Linear, __main__.Sigmoid]"
      ]
     },
     "execution_count": 28,
     "metadata": {},
     "output_type": "execute_result"
    }
   ],
   "source": [
    "DifferentiableActivation.__subclasses__()"
   ]
  },
  {
   "cell_type": "code",
   "execution_count": 33,
   "metadata": {},
   "outputs": [
    {
     "data": {
      "text/plain": [
       "function"
      ]
     },
     "execution_count": 33,
     "metadata": {},
     "output_type": "execute_result"
    }
   ],
   "source": [
    "type(Sigmoid.backpropogate)"
   ]
  },
  {
   "cell_type": "code",
   "execution_count": 38,
   "metadata": {},
   "outputs": [
    {
     "data": {
      "text/plain": [
       "'Activation'"
      ]
     },
     "execution_count": 38,
     "metadata": {},
     "output_type": "execute_result"
    }
   ],
   "source": [
    "a.__class__.__name__"
   ]
  },
  {
   "cell_type": "code",
   "execution_count": null,
   "metadata": {},
   "outputs": [],
   "source": []
  }
 ],
 "metadata": {
  "kernelspec": {
   "display_name": "Python 3",
   "language": "python",
   "name": "python3"
  },
  "language_info": {
   "codemirror_mode": {
    "name": "ipython",
    "version": 3
   },
   "file_extension": ".py",
   "mimetype": "text/x-python",
   "name": "python",
   "nbconvert_exporter": "python",
   "pygments_lexer": "ipython3",
   "version": "3.7.3"
  }
 },
 "nbformat": 4,
 "nbformat_minor": 2
}
