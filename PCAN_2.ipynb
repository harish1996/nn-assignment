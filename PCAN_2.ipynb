{
 "cells": [
  {
   "cell_type": "code",
   "execution_count": 1,
   "metadata": {},
   "outputs": [],
   "source": [
    "class InErr(Exception):\n",
    "    def __init__(self, actual_size ):\n",
    "        self.desired = actual_size\n",
    "        \n",
    "    def __str__(self):\n",
    "        return \"The desired size is \"+str(self.desired)+\" and the received size is \"+str(self.got) \n",
    "    \n",
    "    def gotval(self,got):\n",
    "        self.got = got"
   ]
  },
  {
   "cell_type": "code",
   "execution_count": 18,
   "metadata": {},
   "outputs": [
    {
     "data": {
      "image/png": "[encoded data removed]",
      "text/plain": [
       "<Figure size 432x288 with 1 Axes>"
      ]
     },
     "metadata": {
      "needs_background": "light"
     },
     "output_type": "display_data"
    }
   ],
   "source": [
    "import numpy as np\n",
    "import matplotlib.pyplot as plt\n",
    "npts = 400\n",
    "ls = list(range(1,101))\n",
    "x = np.random.choice( ls, size=npts )\n",
    "y = 3*x + np.random.uniform(low=0,high=20,size=x.shape[0])\n",
    "sc = plt.scatter(x,y)\n",
    "data = np.vstack((x,y)).T\n",
    "mean0d = np.empty_like( data )\n",
    "mean0d[:,0] = data[:,0] - data[:,0].mean()\n",
    "mean0d[:,1] = data[:,1] - data[:,1].mean()\n",
    "mean_alld = (data - data.mean())/data.max() \n",
    "\n",
    "fit_data1 = np.array([[-1.76586391869932,-0.91392532736063],\n",
    "[-1.38289715070277,-0.502829586621374],\n",
    "[-0.618779826909304,-0.408257109113038],\n",
    "[-0.279251442290843,-0.469211537856609],\n",
    "[-0.617764072492719,-0.565175158903003],\n",
    "[-1.67860568827018,-0.845086738467216],\n",
    "[-0.611263827420771,-0.0395743944682181],\n",
    "[0.296234296169132,-0.65233340440318],\n",
    "[-0.81200323626399,0.160686868242919],\n",
    "[0.851336521562189,0.182786221150309]], dtype=np.double)\n",
    "\n",
    "fit_data2 = np.array([[0.82154324837029,1.02822455205023,0.816867631161585,1.43172957585193,-0.211356920888647],\n",
    "[0.158811071654782,0.477836100151762,0.628777307458222,0.468563350616023,0.15094120730646],\n",
    "[0.267525406787172,0.853766672546044,1.29445294477046,0.975737085798755,0.440686272224411],\n",
    "[0.522608259925619,0.845700737321749,0.67850524187088,0.878021024400368,-0.167195495450869],\n",
    "[0.219620030373335,1.16526521905325,1.63568942062557,0.909664262318984,0.470424201572314],\n",
    "[0.673377133207396,1.19049952598289,1.30780894239433,1.46406368282624,0.117309416411445],\n",
    "[0.892852986464277,1.47818981576711,0.796975912293419,1.10449206945486,-0.68121390347369],\n",
    "[0.951930664712563,1.78414147952572,1.21043186890893,1.33015171880834,-0.573709610616788],\n",
    "[0.227902331855148,0.410953311249614,0.388058034703135,0.432909387163818,-0.0228952765464783],\n",
    "[0.951077690348029,1.02105829492211,0.699801568407565,1.58089865418151,-0.321256726514548],\n",
    "[0.863840530393645,1.56053472682834,1.46988949552178,1.63703582948074,-0.0906452313065529],\n",
    "[0.482901901938021,1.42585238837637,1.58202284877189,1.12197426427156,0.156170460395515],\n",
    "[0.986740520223975,1.26958538452163,0.516681112116203,1.22057676804252,-0.752904272405431],\n",
    "[0.0473130554892123,0.123702708631754,0.414710842771456,0.385634245118126,0.291008134139702],\n",
    "[0.953716051299125,1.65761092072353,1.11976985237561,1.36959103425033,-0.537841068347916],\n",
    "[0.724201666424051,1.6814508147072,1.90844193147495,1.67539444961585,0.226991116767749],\n",
    "[0.505472009070218,1.31346420105547,0.831049491651356,0.528529308736324,-0.482414709404111],\n",
    "[0.143367370823398,1.00356849376112,0.972464806400239,0.255631054285914,-0.0311036873608828],\n",
    "[0.971689920173958,1.56363604986109,1.38873743615113,1.76848122663796,-0.174898613709956],\n",
    "[0.999588234815747,1.98116715671495,1.6615385315381,1.67954784445465,-0.319628625176847],], dtype=np.double)"
   ]
  },
  {
   "cell_type": "code",
   "execution_count": 4,
   "metadata": {},
   "outputs": [],
   "source": [
    "import numpy as np\n",
    "\n",
    "class GHA(object):\n",
    "\tdef __init__(self, n_features, n_input, dtype=None):\n",
    "\t\tself.n_features = n_features\n",
    "\t\tself.n_input = n_input\n",
    "\t\tself._W = np.array(np.random.rand(n_features, n_input)*2-1,dtype=dtype)\n",
    "\t\tself.error = None\n",
    "\n",
    "\tdef fit(self, X, lr=0.01, epochs=100):\n",
    "\t\tfor i in range(epochs):\n",
    "\t\t\tfor l in range(X.shape[0]):\n",
    "\t\t\t\tself.partial_fit(X[l,:],lr)\n",
    "\n",
    "\tdef partial_fit(self, X, nu, remember_dW = False):\n",
    "\t\tX = X.reshape(-1,1) \n",
    "# \t\tprint(X)\n",
    "\t\tY = self.transform(X)\n",
    "# \t\tprint(Y)\n",
    "\t\tdW = (np.outer(Y,X) - np.dot(np.tril(np.outer(Y,Y)),self._W))*nu\n",
    "\t\tif remember_dW:\n",
    "\t\t\tself._dW = dW\n",
    "\t\tself._W += dW\n",
    "\n",
    "\tdef transform(self, X):\n",
    "\t\treturn np.dot(self._W, X)\n",
    "\n",
    "\tdef inverse_transform(self, Y):\n",
    "\t\treturn np.dot(self._W.transpose(), Y)"
   ]
  },
  {
   "cell_type": "code",
   "execution_count": 20,
   "metadata": {},
   "outputs": [
    {
     "name": "stdout",
     "output_type": "stream",
     "text": [
      "[[ 0.30780531  0.58830931  0.51278881  0.54009011 -0.0755205 ]\n",
      " [-0.40562899 -0.11657878  0.58370677 -0.1109657   0.70029131]]\n"
     ]
    }
   ],
   "source": [
    "import numpy as np\n",
    "import pandas as pd\n",
    "\n",
    "ina = np.array([[1,2,6],[2,4,12],[3,7,20],[3,8,22]])\n",
    "# inp = np.array([[1,2],[2,4],[3,6],[4,8]])\n",
    "# pca = copied_PCAN( input_dim = 3, output_dim= 1, _debug=True, _debug_allow=[6] )\n",
    "pca = GHA( 2,5 )\n",
    "pca.fit(fit_data2, epochs = 300)\n",
    "print(pca._W)"
   ]
  },
  {
   "cell_type": "code",
   "execution_count": 22,
   "metadata": {},
   "outputs": [
    {
     "data": {
      "text/plain": [
       "array([[-0.91489586],\n",
       "       [-0.40354326]])"
      ]
     },
     "execution_count": 22,
     "metadata": {},
     "output_type": "execute_result"
    }
   ],
   "source": [
    "def hebbian_pca(data, number_of_components =8, w =[], lr =0.001, iterations =100):\n",
    "    '''\n",
    "    input: data (N x d)        ( ASSUMPTION:  data.mean(0) = ZERO !!)\n",
    "    output: first 'number_of_components' of eigenvectors 'w'\n",
    "    \n",
    "    '''\n",
    "    npc = number_of_components\n",
    "    if np.array(w).shape[0] > 0: pass # do better checking \n",
    "    else: w = np.random.uniform(-1,1,(data.shape[1],npc))\n",
    "\n",
    "    for iters in range(iterations):\n",
    "        for x in data:\n",
    "            y = np.dot(w.T,x[:,True])\n",
    "            Ymat= []\n",
    "            for i in range(npc):\n",
    "                Ymat += [y]\n",
    "            Y_mat = np.array(Ymat)[:,:,0]\n",
    "            tril_mat = np.tril(Y_mat,k=0).T\n",
    "            S_mat = np.dot(w,tril_mat)\n",
    "            Xmat= []\n",
    "            for i in range(npc):\n",
    "                Xmat += [x]\n",
    "            X_mat = np.array(Xmat).T\n",
    "            dw = lr * y[:,0]* (X_mat - S_mat)\n",
    "            w += dw\n",
    "    return w\n",
    "\n",
    "hebbian_pca(fit_data1, 1, iterations=300 )"
   ]
  },
  {
   "cell_type": "code",
   "execution_count": null,
   "metadata": {},
   "outputs": [],
   "source": []
  }
 ],
 "metadata": {
  "kernelspec": {
   "display_name": "Python 3",
   "language": "python",
   "name": "python3"
  },
  "language_info": {
   "codemirror_mode": {
    "name": "ipython",
    "version": 3
   },
   "file_extension": ".py",
   "mimetype": "text/x-python",
   "name": "python",
   "nbconvert_exporter": "python",
   "pygments_lexer": "ipython3",
   "version": "3.7.3"
  }
 },
 "nbformat": 4,
 "nbformat_minor": 2
}
